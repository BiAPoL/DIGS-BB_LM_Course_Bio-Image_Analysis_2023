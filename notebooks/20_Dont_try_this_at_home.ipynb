{
  "cells": [
    {
      "cell_type": "markdown",
      "id": "frank-basement",
      "metadata": {
        "id": "frank-basement"
      },
      "source": [
        "# Pitfalls when working with Jupyter notebooks\n",
        "You can execute the same cell in Jupyter notebooks multiple times. This may lead to notebooks which make no sense to the reader."
      ]
    },
    {
      "cell_type": "code",
      "execution_count": null,
      "id": "metallic-classification",
      "metadata": {
        "id": "metallic-classification"
      },
      "outputs": [],
      "source": [
        "a = 5\n",
        "b = 5"
      ]
    },
    {
      "cell_type": "code",
      "execution_count": null,
      "id": "wired-crowd",
      "metadata": {
        "id": "wired-crowd"
      },
      "outputs": [],
      "source": [
        "a = a + 1"
      ]
    },
    {
      "cell_type": "code",
      "execution_count": null,
      "id": "shaped-capital",
      "metadata": {
        "id": "shaped-capital",
        "outputId": "eeb5b4ee-4fee-4fd6-b02f-c032fb3e139c"
      },
      "outputs": [
        {
          "data": {
            "text/plain": [
              "13"
            ]
          },
          "execution_count": 7,
          "metadata": {},
          "output_type": "execute_result"
        }
      ],
      "source": [
        "a + b"
      ]
    },
    {
      "cell_type": "markdown",
      "id": "olympic-vienna",
      "metadata": {
        "id": "olympic-vienna"
      },
      "source": [
        "You can execute them in the wrong order which leads to the same effect."
      ]
    },
    {
      "cell_type": "code",
      "execution_count": null,
      "id": "backed-shaft",
      "metadata": {
        "id": "backed-shaft"
      },
      "outputs": [],
      "source": [
        "d = 5"
      ]
    },
    {
      "cell_type": "code",
      "execution_count": null,
      "id": "military-bedroom",
      "metadata": {
        "id": "military-bedroom"
      },
      "outputs": [],
      "source": [
        "d = 10"
      ]
    },
    {
      "cell_type": "code",
      "execution_count": null,
      "id": "radical-shakespeare",
      "metadata": {
        "id": "radical-shakespeare",
        "outputId": "242c5595-e799-4e4d-9eba-77ac927f4427"
      },
      "outputs": [
        {
          "data": {
            "text/plain": [
              "5"
            ]
          },
          "execution_count": 11,
          "metadata": {},
          "output_type": "execute_result"
        }
      ],
      "source": [
        "d"
      ]
    },
    {
      "cell_type": "markdown",
      "id": "persistent-porcelain",
      "metadata": {
        "id": "persistent-porcelain"
      },
      "source": [
        "You can see that cells were executed in wrong order, repeatedly or not subsequently, by reading the number `In [?]` on the left.\n",
        "\n",
        "![](https://github.com/BiAPoL/DIGS-BB_LM_Course_Bio-Image_Analysis_2023/blob/main/images/cell_execution_number.png?raw=true)\n",
        "\n",
        "Tip: When your notebook is ready, click on menu `Kernel > Restart & Run all` to make sure all cells in the notebook are executed in the right order."
      ]
    },
    {
      "cell_type": "code",
      "execution_count": null,
      "id": "conservative-cyprus",
      "metadata": {
        "id": "conservative-cyprus"
      },
      "outputs": [],
      "source": []
    }
  ],
  "metadata": {
    "kernelspec": {
      "display_name": "Python 3 (ipykernel)",
      "language": "python",
      "name": "python3"
    },
    "language_info": {
      "codemirror_mode": {
        "name": "ipython",
        "version": 3
      },
      "file_extension": ".py",
      "mimetype": "text/x-python",
      "name": "python",
      "nbconvert_exporter": "python",
      "pygments_lexer": "ipython3",
      "version": "3.9.0"
    },
    "colab": {
      "provenance": []
    }
  },
  "nbformat": 4,
  "nbformat_minor": 5
}